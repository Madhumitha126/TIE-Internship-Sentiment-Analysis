{
  "nbformat": 4,
  "nbformat_minor": 0,
  "metadata": {
    "colab": {
      "provenance": [],
      "toc_visible": true,
      "authorship_tag": "ABX9TyObiBeyNote5aby2aZGwfs9",
      "include_colab_link": true
    },
    "kernelspec": {
      "name": "python3",
      "display_name": "Python 3"
    },
    "language_info": {
      "name": "python"
    }
  },
  "cells": [
    {
      "cell_type": "markdown",
      "metadata": {
        "id": "view-in-github",
        "colab_type": "text"
      },
      "source": [
        "<a href=\"https://colab.research.google.com/github/Madhumitha126/TIE-Internship-Sentiment-Analysis/blob/main/Twitter_Sentiment_Analysis.ipynb\" target=\"_parent\"><img src=\"https://colab.research.google.com/assets/colab-badge.svg\" alt=\"Open In Colab\"/></a>"
      ]
    },
    {
      "cell_type": "code",
      "source": [
        "pip install textblob"
      ],
      "metadata": {
        "colab": {
          "base_uri": "https://localhost:8080/"
        },
        "id": "cVrVLPxhEB67",
        "outputId": "7b7b9641-8313-4c57-8465-20d4363f7ec9"
      },
      "execution_count": 73,
      "outputs": [
        {
          "output_type": "stream",
          "name": "stdout",
          "text": [
            "Requirement already satisfied: textblob in /usr/local/lib/python3.10/dist-packages (0.17.1)\n",
            "Requirement already satisfied: nltk>=3.1 in /usr/local/lib/python3.10/dist-packages (from textblob) (3.8.1)\n",
            "Requirement already satisfied: click in /usr/local/lib/python3.10/dist-packages (from nltk>=3.1->textblob) (8.1.7)\n",
            "Requirement already satisfied: joblib in /usr/local/lib/python3.10/dist-packages (from nltk>=3.1->textblob) (1.3.2)\n",
            "Requirement already satisfied: regex>=2021.8.3 in /usr/local/lib/python3.10/dist-packages (from nltk>=3.1->textblob) (2023.6.3)\n",
            "Requirement already satisfied: tqdm in /usr/local/lib/python3.10/dist-packages (from nltk>=3.1->textblob) (4.66.1)\n"
          ]
        }
      ]
    },
    {
      "cell_type": "code",
      "source": [
        "from textblob import TextBlob\n",
        "import pandas as pd\n"
      ],
      "metadata": {
        "id": "10cOqHK0McQK"
      },
      "execution_count": 72,
      "outputs": []
    },
    {
      "cell_type": "code",
      "source": [
        "# Sample tweets\n",
        "tweets = [\n",
        "    \"I'm enjoying the lockdown in the USA. It gives me time to relax.\",\n",
        "    \"The lockdown measures in the USA are too strict. It's frustrating.\",\n",
        "    \"Working from home during the lockdown has its challenges.\",\n",
        "    \"The lockdown is necessary to control the spread of Covid-19.\",\n",
        "    \"I'm feeling anxious during the lockdown in the USA.\",\n",
        "]\n"
      ],
      "metadata": {
        "id": "bFEXSyteMh7l"
      },
      "execution_count": 67,
      "outputs": []
    },
    {
      "cell_type": "code",
      "source": [
        "# Create a DataFrame to store the tweets\n",
        "data = {'Tweet': tweets}\n",
        "df = pd.DataFrame(data)\n"
      ],
      "metadata": {
        "id": "Ek5r15Q7Mkon"
      },
      "execution_count": 68,
      "outputs": []
    },
    {
      "cell_type": "code",
      "source": [
        "# Perform sentiment analysis for each tweet\n",
        "def analyze_sentiment(tweet):\n",
        "    analysis = TextBlob(tweet)\n",
        "    if analysis.sentiment.polarity > 0:\n",
        "        return \"Positive\"\n",
        "    elif analysis.sentiment.polarity < 0:\n",
        "        return \"Negative\"\n",
        "    else:\n",
        "        return \"Neutral\""
      ],
      "metadata": {
        "id": "lbzM_kRdMoUo"
      },
      "execution_count": 69,
      "outputs": []
    },
    {
      "cell_type": "code",
      "source": [
        "df['Sentiment'] = df['Tweet'].apply(analyze_sentiment)"
      ],
      "metadata": {
        "id": "tdDGC1C5Mrbq"
      },
      "execution_count": 70,
      "outputs": []
    },
    {
      "cell_type": "code",
      "source": [
        "# Print the sentiment analysis results\n",
        "print(\"Sentiment Analysis Results:\")\n",
        "print(df)"
      ],
      "metadata": {
        "colab": {
          "base_uri": "https://localhost:8080/"
        },
        "id": "pOpsenyYMuVm",
        "outputId": "52327a9c-9330-4701-e981-9d79410dbded"
      },
      "execution_count": 71,
      "outputs": [
        {
          "output_type": "stream",
          "name": "stdout",
          "text": [
            "Sentiment Analysis Results:\n",
            "                                               Tweet Sentiment\n",
            "0  I'm enjoying the lockdown in the USA. It gives...  Positive\n",
            "1  The lockdown measures in the USA are too stric...  Negative\n",
            "2  Working from home during the lockdown has its ...   Neutral\n",
            "3  The lockdown is necessary to control the sprea...   Neutral\n",
            "4  I'm feeling anxious during the lockdown in the...  Negative\n"
          ]
        }
      ]
    }
  ]
}